{
 "cells": [
  {
   "cell_type": "code",
   "execution_count": 44,
   "metadata": {
    "colab": {},
    "colab_type": "code",
    "id": "rfTAbxYhXPwt"
   },
   "outputs": [
    {
     "ename": "ModuleNotFoundError",
     "evalue": "No module named 'training'",
     "output_type": "error",
     "traceback": [
      "\u001b[0;31m---------------------------------------------------------------------------\u001b[0m",
      "\u001b[0;31mModuleNotFoundError\u001b[0m                       Traceback (most recent call last)",
      "\u001b[1;32m/Users/vithlaithlalong/DN-Classifier/training/mobilenetv2_transfer_learning.ipynb Cell 1\u001b[0m in \u001b[0;36m<cell line: 9>\u001b[0;34m()\u001b[0m\n\u001b[1;32m      <a href='vscode-notebook-cell:/Users/vithlaithlalong/DN-Classifier/training/mobilenetv2_transfer_learning.ipynb#W0sZmlsZQ%3D%3D?line=6'>7</a>\u001b[0m \u001b[39mimport\u001b[39;00m \u001b[39mmatplotlib\u001b[39;00m\u001b[39m.\u001b[39;00m\u001b[39mpyplot\u001b[39;00m \u001b[39mas\u001b[39;00m \u001b[39mplt\u001b[39;00m\n\u001b[1;32m      <a href='vscode-notebook-cell:/Users/vithlaithlalong/DN-Classifier/training/mobilenetv2_transfer_learning.ipynb#W0sZmlsZQ%3D%3D?line=7'>8</a>\u001b[0m \u001b[39mimport\u001b[39;00m \u001b[39mutils\u001b[39;00m\n\u001b[0;32m----> <a href='vscode-notebook-cell:/Users/vithlaithlalong/DN-Classifier/training/mobilenetv2_transfer_learning.ipynb#W0sZmlsZQ%3D%3D?line=8'>9</a>\u001b[0m \u001b[39mimport\u001b[39;00m \u001b[39mtraining\u001b[39;00m\u001b[39m.\u001b[39;00m\u001b[39mutils\u001b[39;00m\n\u001b[1;32m     <a href='vscode-notebook-cell:/Users/vithlaithlalong/DN-Classifier/training/mobilenetv2_transfer_learning.ipynb#W0sZmlsZQ%3D%3D?line=9'>10</a>\u001b[0m \u001b[39mimport\u001b[39;00m \u001b[39mtrain_val_scripts\u001b[39;00m\n\u001b[1;32m     <a href='vscode-notebook-cell:/Users/vithlaithlalong/DN-Classifier/training/mobilenetv2_transfer_learning.ipynb#W0sZmlsZQ%3D%3D?line=10'>11</a>\u001b[0m \u001b[39mfrom\u001b[39;00m \u001b[39mpathlib\u001b[39;00m \u001b[39mimport\u001b[39;00m Path\n",
      "\u001b[0;31mModuleNotFoundError\u001b[0m: No module named 'training'"
     ]
    }
   ],
   "source": [
    "# importing required libraries\n",
    "\n",
    "import torch\n",
    "import torch.nn as nn\n",
    "import numpy as np\n",
    "import cv2\n",
    "import matplotlib.pyplot as plt\n",
    "import utils\n",
    "import train_val_scripts\n",
    "from pathlib import Path\n",
    "from torchvision import transforms, models, datasets\n",
    "\n",
    "%matplotlib inline"
   ]
  },
  {
   "cell_type": "code",
   "execution_count": null,
   "metadata": {
    "colab": {},
    "colab_type": "code",
    "id": "mYb9SxtAXZi2"
   },
   "outputs": [],
   "source": [
    "# Simple data augmentation for training set\n",
    "train_tfms = transforms.Compose([\n",
    "              transforms.Resize((500,500)),\n",
    "              transforms.RandomHorizontalFlip(p=0.5),\n",
    "              transforms.RandomVerticalFlip(p=0.5),\n",
    "              transforms.ToTensor(),\n",
    "              transforms.Normalize([0.485, 0.456, 0.406], [0.229, 0.224, 0.225])\n",
    "])\n",
    "# No data augmentation for validation set, only normalizing data\n",
    "valid_tfms = transforms.Compose([\n",
    "              transforms.Resize((500,500)),\n",
    "              transforms.ToTensor(),\n",
    "              transforms.Normalize([0.485, 0.456, 0.406], [0.229, 0.224, 0.225])\n",
    "])"
   ]
  },
  {
   "cell_type": "code",
   "execution_count": null,
   "metadata": {
    "colab": {},
    "colab_type": "code",
    "id": "XOg-UNHkXfHc"
   },
   "outputs": [],
   "source": [
    "data_dir = '../summer_winter_dataset/'"
   ]
  },
  {
   "cell_type": "code",
   "execution_count": null,
   "metadata": {
    "colab": {},
    "colab_type": "code",
    "id": "5Q4rAl2RXhqW"
   },
   "outputs": [],
   "source": [
    "train_ds = datasets.ImageFolder(data_dir+'train', transform=train_tfms)\n",
    "valid_ds = datasets.ImageFolder(data_dir+'val', transform=valid_tfms)"
   ]
  },
  {
   "cell_type": "code",
   "execution_count": null,
   "metadata": {
    "colab": {},
    "colab_type": "code",
    "id": "FmgmZnHEXjrz"
   },
   "outputs": [],
   "source": [
    "train_dl = torch.utils.data.DataLoader(train_ds, batch_size=32, shuffle=True, num_workers=4, pin_memory=True)\n",
    "valid_dl = torch.utils.data.DataLoader(valid_ds, batch_size=32, shuffle=False, num_workers=4, pin_memory=True)"
   ]
  },
  {
   "cell_type": "code",
   "execution_count": null,
   "metadata": {
    "colab": {},
    "colab_type": "code",
    "id": "lQa9fopEXlQw"
   },
   "outputs": [],
   "source": [
    "x,y = next(iter(valid_dl))"
   ]
  },
  {
   "cell_type": "code",
   "execution_count": null,
   "metadata": {
    "colab": {
     "base_uri": "https://localhost:8080/",
     "height": 34
    },
    "colab_type": "code",
    "id": "7MqYc81EXnvt",
    "outputId": "a6271530-7a52-4f85-fb23-7d7415481097"
   },
   "outputs": [],
   "source": [
    "classes = train_ds.classes; classes"
   ]
  },
  {
   "cell_type": "code",
   "execution_count": null,
   "metadata": {
    "colab": {
     "base_uri": "https://localhost:8080/",
     "height": 594
    },
    "colab_type": "code",
    "id": "qbYAtUktXpSj",
    "outputId": "8cf65231-6de5-4508-cbbc-b77f79946c84"
   },
   "outputs": [],
   "source": [
    "# visualizing sample images\n",
    "utils.show_batch(x, [classes[i] for i in y], nimgs=4)"
   ]
  },
  {
   "cell_type": "code",
   "execution_count": null,
   "metadata": {
    "colab": {
     "base_uri": "https://localhost:8080/",
     "height": 84,
     "referenced_widgets": [
      "83c7a99b75c8466d83898d335460e819",
      "9b945eaa4efd4a1b99fd14f80ae08b19",
      "e9e0f8abe2e4473faed207d23832217e",
      "38b20c6f8c2d46a0a1de17d6f52cef6c",
      "fb9a0c337db346c4adc2bf8ce0a1256d",
      "475ed371c92c4c33bd4690d0a9956bb0",
      "a9dff103e4f2455884b196d1f86ab346",
      "1e30dc255d324f1a859627df9b64ce7f"
     ]
    },
    "colab_type": "code",
    "id": "Erf81FRXXrc5",
    "outputId": "c8f9229f-9992-4139-c66f-3aa0fe681f7c"
   },
   "outputs": [],
   "source": [
    "# loading imagenet pretrained mobilenet v2 from torchvision models\n",
    "mbv2 = models.mobilenet_v2(pretrained=True)"
   ]
  },
  {
   "attachments": {},
   "cell_type": "markdown",
   "metadata": {},
   "source": [
    "###  Converting to ONNX"
   ]
  },
  {
   "cell_type": "code",
   "execution_count": null,
   "metadata": {},
   "outputs": [],
   "source": [
    "# import torch.onnx\n",
    "# print(x.shape)\n",
    "# torch.onnx.export(mbv2,\n",
    "#                   x,\n",
    "#                   f = './ex.onnx',\n",
    "#                   export_params=True,\n",
    "#                   example_outputs=y[0])"
   ]
  },
  {
   "cell_type": "code",
   "execution_count": null,
   "metadata": {},
   "outputs": [],
   "source": []
  },
  {
   "cell_type": "code",
   "execution_count": null,
   "metadata": {
    "colab": {
     "base_uri": "https://localhost:8080/",
     "height": 34
    },
    "colab_type": "code",
    "id": "zSggxo5zX5np",
    "outputId": "acd46c2d-b178-497a-a194-125487cf304d"
   },
   "outputs": [],
   "source": [
    "in_features = mbv2.classifier[1].in_features; in_features"
   ]
  },
  {
   "cell_type": "code",
   "execution_count": null,
   "metadata": {
    "colab": {},
    "colab_type": "code",
    "id": "BJULTTWgX2QZ"
   },
   "outputs": [],
   "source": [
    "# replace final FC layer of model with FC layer with number of output classes = 2 for day/night\n",
    "mbv2.classifier[1] = nn.Linear(in_features, 2)"
   ]
  },
  {
   "cell_type": "code",
   "execution_count": null,
   "metadata": {
    "colab": {},
    "colab_type": "code",
    "id": "JCm9q_HyX5HJ"
   },
   "outputs": [],
   "source": [
    "# moving model to GPU for training\n",
    "# mbv2 = mbv2.to(device='cuda:0')"
   ]
  },
  {
   "cell_type": "code",
   "execution_count": null,
   "metadata": {
    "colab": {},
    "colab_type": "code",
    "id": "yNURThAhX7LT"
   },
   "outputs": [],
   "source": [
    "# Using Softmax CrossEntropy Loss\n",
    "criterion = nn.CrossEntropyLoss()\n",
    "\n",
    "# Adam optimizer with lr=1e-4\n",
    "opt = torch.optim.Adam(mbv2.parameters(), lr=1e-4)\n",
    "\n",
    "# Cosine Annealing Learning Rate Scheduler\n",
    "scheduler = torch.optim.lr_scheduler.CosineAnnealingLR(opt, len(train_dl)*15, eta_min=1e-6)"
   ]
  },
  {
   "cell_type": "code",
   "execution_count": null,
   "metadata": {
    "colab": {
     "base_uri": "https://localhost:8080/",
     "height": 1000
    },
    "colab_type": "code",
    "id": "sDcLuaxZX3ew",
    "outputId": "422c838e-d39a-4bb3-9580-83737ee61d2d"
   },
   "outputs": [],
   "source": [
    "max_acc = 0.0 # Track maximum validation accuracy achieved\n",
    "for epoch in range(15):\n",
    "  best = False # Flag to detect best model\n",
    "\n",
    "  # Training phase\n",
    "  train_loss, train_acc = train_val_scripts.train_epoch(mbv2, train_dl, criterion, opt, scheduler)\n",
    "\n",
    "  # Validation phase\n",
    "  valid_loss, valid_acc = train_val_scripts.valid_epoch(mbv2, valid_dl, criterion)\n",
    "\n",
    "\n",
    "  if valid_acc > max_acc: # Saving best model\n",
    "    max_acc = valid_acc\n",
    "    torch.save(mbv2.state_dict(), 'mbv2_ws.pth')\n",
    "    best = True\n",
    "\n",
    "  print('-'*25 + f'Epoch {epoch+1}' + '-'*25)\n",
    "  print(f'Train Loss:{train_loss} Train Accuracy:{train_acc}')\n",
    "  print(f'Valid Loss:{valid_loss} Valid Accuracy:{valid_acc}')\n",
    "  if best:\n",
    "    print(f'Found better model!')\n",
    "  print('-'*58)"
   ]
  }
 ],
 "metadata": {
  "accelerator": "GPU",
  "colab": {
   "collapsed_sections": [],
   "name": "mobilenetv2_transfer_learning",
   "provenance": []
  },
  "kernelspec": {
   "display_name": "tsc",
   "language": "python",
   "name": "python3"
  },
  "language_info": {
   "codemirror_mode": {
    "name": "ipython",
    "version": 3
   },
   "file_extension": ".py",
   "mimetype": "text/x-python",
   "name": "python",
   "nbconvert_exporter": "python",
   "pygments_lexer": "ipython3",
   "version": "3.8.13"
  },
  "vscode": {
   "interpreter": {
    "hash": "cca798018046ce562ceeff673e0ebd298c37626633476cb37fe52a38565f14e9"
   }
  },
  "widgets": {
   "application/vnd.jupyter.widget-state+json": {
    "1e30dc255d324f1a859627df9b64ce7f": {
     "model_module": "@jupyter-widgets/base",
     "model_name": "LayoutModel",
     "state": {
      "_model_module": "@jupyter-widgets/base",
      "_model_module_version": "1.2.0",
      "_model_name": "LayoutModel",
      "_view_count": null,
      "_view_module": "@jupyter-widgets/base",
      "_view_module_version": "1.2.0",
      "_view_name": "LayoutView",
      "align_content": null,
      "align_items": null,
      "align_self": null,
      "border": null,
      "bottom": null,
      "display": null,
      "flex": null,
      "flex_flow": null,
      "grid_area": null,
      "grid_auto_columns": null,
      "grid_auto_flow": null,
      "grid_auto_rows": null,
      "grid_column": null,
      "grid_gap": null,
      "grid_row": null,
      "grid_template_areas": null,
      "grid_template_columns": null,
      "grid_template_rows": null,
      "height": null,
      "justify_content": null,
      "justify_items": null,
      "left": null,
      "margin": null,
      "max_height": null,
      "max_width": null,
      "min_height": null,
      "min_width": null,
      "object_fit": null,
      "object_position": null,
      "order": null,
      "overflow": null,
      "overflow_x": null,
      "overflow_y": null,
      "padding": null,
      "right": null,
      "top": null,
      "visibility": null,
      "width": null
     }
    },
    "38b20c6f8c2d46a0a1de17d6f52cef6c": {
     "model_module": "@jupyter-widgets/controls",
     "model_name": "HTMLModel",
     "state": {
      "_dom_classes": [],
      "_model_module": "@jupyter-widgets/controls",
      "_model_module_version": "1.5.0",
      "_model_name": "HTMLModel",
      "_view_count": null,
      "_view_module": "@jupyter-widgets/controls",
      "_view_module_version": "1.5.0",
      "_view_name": "HTMLView",
      "description": "",
      "description_tooltip": null,
      "layout": "IPY_MODEL_1e30dc255d324f1a859627df9b64ce7f",
      "placeholder": "​",
      "style": "IPY_MODEL_a9dff103e4f2455884b196d1f86ab346",
      "value": " 13.6M/13.6M [06:07&lt;00:00, 38.6kB/s]"
     }
    },
    "475ed371c92c4c33bd4690d0a9956bb0": {
     "model_module": "@jupyter-widgets/base",
     "model_name": "LayoutModel",
     "state": {
      "_model_module": "@jupyter-widgets/base",
      "_model_module_version": "1.2.0",
      "_model_name": "LayoutModel",
      "_view_count": null,
      "_view_module": "@jupyter-widgets/base",
      "_view_module_version": "1.2.0",
      "_view_name": "LayoutView",
      "align_content": null,
      "align_items": null,
      "align_self": null,
      "border": null,
      "bottom": null,
      "display": null,
      "flex": null,
      "flex_flow": null,
      "grid_area": null,
      "grid_auto_columns": null,
      "grid_auto_flow": null,
      "grid_auto_rows": null,
      "grid_column": null,
      "grid_gap": null,
      "grid_row": null,
      "grid_template_areas": null,
      "grid_template_columns": null,
      "grid_template_rows": null,
      "height": null,
      "justify_content": null,
      "justify_items": null,
      "left": null,
      "margin": null,
      "max_height": null,
      "max_width": null,
      "min_height": null,
      "min_width": null,
      "object_fit": null,
      "object_position": null,
      "order": null,
      "overflow": null,
      "overflow_x": null,
      "overflow_y": null,
      "padding": null,
      "right": null,
      "top": null,
      "visibility": null,
      "width": null
     }
    },
    "83c7a99b75c8466d83898d335460e819": {
     "model_module": "@jupyter-widgets/controls",
     "model_name": "HBoxModel",
     "state": {
      "_dom_classes": [],
      "_model_module": "@jupyter-widgets/controls",
      "_model_module_version": "1.5.0",
      "_model_name": "HBoxModel",
      "_view_count": null,
      "_view_module": "@jupyter-widgets/controls",
      "_view_module_version": "1.5.0",
      "_view_name": "HBoxView",
      "box_style": "",
      "children": [
       "IPY_MODEL_e9e0f8abe2e4473faed207d23832217e",
       "IPY_MODEL_38b20c6f8c2d46a0a1de17d6f52cef6c"
      ],
      "layout": "IPY_MODEL_9b945eaa4efd4a1b99fd14f80ae08b19"
     }
    },
    "9b945eaa4efd4a1b99fd14f80ae08b19": {
     "model_module": "@jupyter-widgets/base",
     "model_name": "LayoutModel",
     "state": {
      "_model_module": "@jupyter-widgets/base",
      "_model_module_version": "1.2.0",
      "_model_name": "LayoutModel",
      "_view_count": null,
      "_view_module": "@jupyter-widgets/base",
      "_view_module_version": "1.2.0",
      "_view_name": "LayoutView",
      "align_content": null,
      "align_items": null,
      "align_self": null,
      "border": null,
      "bottom": null,
      "display": null,
      "flex": null,
      "flex_flow": null,
      "grid_area": null,
      "grid_auto_columns": null,
      "grid_auto_flow": null,
      "grid_auto_rows": null,
      "grid_column": null,
      "grid_gap": null,
      "grid_row": null,
      "grid_template_areas": null,
      "grid_template_columns": null,
      "grid_template_rows": null,
      "height": null,
      "justify_content": null,
      "justify_items": null,
      "left": null,
      "margin": null,
      "max_height": null,
      "max_width": null,
      "min_height": null,
      "min_width": null,
      "object_fit": null,
      "object_position": null,
      "order": null,
      "overflow": null,
      "overflow_x": null,
      "overflow_y": null,
      "padding": null,
      "right": null,
      "top": null,
      "visibility": null,
      "width": null
     }
    },
    "a9dff103e4f2455884b196d1f86ab346": {
     "model_module": "@jupyter-widgets/controls",
     "model_name": "DescriptionStyleModel",
     "state": {
      "_model_module": "@jupyter-widgets/controls",
      "_model_module_version": "1.5.0",
      "_model_name": "DescriptionStyleModel",
      "_view_count": null,
      "_view_module": "@jupyter-widgets/base",
      "_view_module_version": "1.2.0",
      "_view_name": "StyleView",
      "description_width": ""
     }
    },
    "e9e0f8abe2e4473faed207d23832217e": {
     "model_module": "@jupyter-widgets/controls",
     "model_name": "IntProgressModel",
     "state": {
      "_dom_classes": [],
      "_model_module": "@jupyter-widgets/controls",
      "_model_module_version": "1.5.0",
      "_model_name": "IntProgressModel",
      "_view_count": null,
      "_view_module": "@jupyter-widgets/controls",
      "_view_module_version": "1.5.0",
      "_view_name": "ProgressView",
      "bar_style": "success",
      "description": "100%",
      "description_tooltip": null,
      "layout": "IPY_MODEL_475ed371c92c4c33bd4690d0a9956bb0",
      "max": 14212972,
      "min": 0,
      "orientation": "horizontal",
      "style": "IPY_MODEL_fb9a0c337db346c4adc2bf8ce0a1256d",
      "value": 14212972
     }
    },
    "fb9a0c337db346c4adc2bf8ce0a1256d": {
     "model_module": "@jupyter-widgets/controls",
     "model_name": "ProgressStyleModel",
     "state": {
      "_model_module": "@jupyter-widgets/controls",
      "_model_module_version": "1.5.0",
      "_model_name": "ProgressStyleModel",
      "_view_count": null,
      "_view_module": "@jupyter-widgets/base",
      "_view_module_version": "1.2.0",
      "_view_name": "StyleView",
      "bar_color": null,
      "description_width": "initial"
     }
    }
   }
  }
 },
 "nbformat": 4,
 "nbformat_minor": 2
}
